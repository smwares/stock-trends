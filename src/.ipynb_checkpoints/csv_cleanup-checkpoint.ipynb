{
 "cells": [
  {
   "cell_type": "code",
   "execution_count": 1,
   "id": "539dc082-19e0-4398-bf78-caf4dd10ca03",
   "metadata": {
    "tags": []
   },
   "outputs": [],
   "source": [
    "import pandas as pd\n",
    "import numpy as np\n",
    "import os"
   ]
  },
  {
   "cell_type": "code",
   "execution_count": 2,
   "id": "53000997-8609-44ab-8abe-7471e2ec8408",
   "metadata": {},
   "outputs": [],
   "source": [
    "# get a list of files from the 'data' directory\n",
    "filelist = os.listdir('../data/')\n",
    "csvs = []\n",
    "for file in filelist:\n",
    "    if file.endswith('.csv'):\n",
    "        csvs.append(file)"
   ]
  },
  {
   "cell_type": "code",
   "execution_count": 3,
   "id": "091d481f-92a5-4a5a-9ac9-342fb0572440",
   "metadata": {
    "tags": []
   },
   "outputs": [
    {
     "name": "stdout",
     "output_type": "stream",
     "text": [
      "['MacroTrends_Data_Download_AMD.csv', 'MacroTrends_Data_Download_ASML.csv', 'MacroTrends_Data_Download_AVGO.csv', 'MacroTrends_Data_Download_INTC.csv', 'MacroTrends_Data_Download_MU.csv', 'MacroTrends_Data_Download_NVDA.csv', 'MacroTrends_Data_Download_QCOM.csv', 'MacroTrends_Data_Download_TSM.csv']\n"
     ]
    }
   ],
   "source": [
    "print(csvs)"
   ]
  },
  {
   "cell_type": "code",
   "execution_count": 8,
   "id": "46dfb231-4007-408c-addf-c36c87b17e33",
   "metadata": {},
   "outputs": [],
   "source": [
    "def format_stockcsv(stockfile):\n",
    "    \n",
    "    # gets the number of lines to skip before saving the CSV as a dataframe, as the files have been saved in an unconventional manner by Macrotrends\n",
    "    with open(('../data/' + stockfile), 'r') as file:\n",
    "        for linenumber, line in enumerate(file):\n",
    "            if line.startswith('date'):\n",
    "                skipline = linenumber\n",
    "        \n",
    "    stock = pd.read_csv(('../data/' + stockfile), skiprows=skipline)\n",
    "    \n",
    "    # convert the first column into datetime format and the rest (except the last one) into float32\n",
    "    stock['date'] = pd.to_datetime(stock['date'])\n",
    "    stock[['open', 'high', 'low', 'close']] = stock[['open', 'high',  'low', 'close']].astype('float32')\n",
    "    \n",
    "    stock.to_csv('../data/' + stockfile.rstrip('.csv') + '_formatted.csv', index=False)"
   ]
  },
  {
   "cell_type": "code",
   "execution_count": 9,
   "id": "d52ff9bf-ec12-4669-a1f8-3fa208cf5d93",
   "metadata": {
    "tags": []
   },
   "outputs": [],
   "source": [
    "# iterate through the list of CSV files, format and save\n",
    "for csvfile in csvs:\n",
    "    format_stockcsv(csvfile)"
   ]
  }
 ],
 "metadata": {
  "kernelspec": {
   "display_name": "lhl_env",
   "language": "python",
   "name": "lhl_env"
  },
  "language_info": {
   "codemirror_mode": {
    "name": "ipython",
    "version": 3
   },
   "file_extension": ".py",
   "mimetype": "text/x-python",
   "name": "python",
   "nbconvert_exporter": "python",
   "pygments_lexer": "ipython3",
   "version": "3.9.18"
  }
 },
 "nbformat": 4,
 "nbformat_minor": 5
}
