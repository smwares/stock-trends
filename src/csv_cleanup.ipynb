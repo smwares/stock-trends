{
 "cells": [
  {
   "cell_type": "code",
   "execution_count": 1,
   "id": "539dc082-19e0-4398-bf78-caf4dd10ca03",
   "metadata": {
    "tags": []
   },
   "outputs": [],
   "source": [
    "import pandas as pd\n",
    "import numpy as np\n",
    "import os"
   ]
  },
  {
   "cell_type": "code",
   "execution_count": 2,
   "id": "53000997-8609-44ab-8abe-7471e2ec8408",
   "metadata": {},
   "outputs": [],
   "source": [
    "# get a list of files from the 'data' directory\n",
    "filelist = os.listdir('../data/')\n",
    "csvs = []\n",
    "for file in filelist:\n",
    "    if file.endswith('.csv'):\n",
    "        csvs.append(file)"
   ]
  },
  {
   "cell_type": "code",
   "execution_count": 3,
   "id": "9e66d710-4a42-414b-81d7-ab1412d1e44e",
   "metadata": {
    "tags": []
   },
   "outputs": [],
   "source": [
    "# get a list of the stock abbreviations\n",
    "# Pythonic code explanation: for loop is iterating through each file name, then each item is having the '.csv' portion being stripped from the right...\n",
    "#... then is being split into a list with the underscore acting as the separator, and then finally adding the last item to the list by indexing backwards with -1\n",
    "stocknames = list(stock.rstrip('.csv').split('_')[-1] for stock in csvs)"
   ]
  },
  {
   "cell_type": "code",
   "execution_count": 4,
   "id": "46dfb231-4007-408c-addf-c36c87b17e33",
   "metadata": {},
   "outputs": [],
   "source": [
    "def format_stockcsv(stockfile):\n",
    "    \n",
    "    # gets the number of lines to skip before saving the CSV as a dataframe, as the files have been saved in an unconventional manner by Macrotrends\n",
    "    with open(('../data/' + stockfile), 'r') as file:\n",
    "        for linenumber, line in enumerate(file):\n",
    "            if line.startswith('date'):\n",
    "                skipline = linenumber\n",
    "        \n",
    "    stock_df = pd.read_csv(('../data/' + stockfile), skiprows=skipline)\n",
    "    \n",
    "    # convert the first column into datetime format and the rest (except the last one) into float32\n",
    "    stock_df['date'] = pd.to_datetime(stock_df['date'])\n",
    "    stock_df[['open', 'high', 'low', 'close']] = stock_df[['open', 'high',  'low', 'close']].astype('float32')\n",
    "    \n",
    "    return stock_df"
   ]
  },
  {
   "cell_type": "code",
   "execution_count": 5,
   "id": "d52ff9bf-ec12-4669-a1f8-3fa208cf5d93",
   "metadata": {
    "tags": []
   },
   "outputs": [],
   "source": [
    "# add the stock ticker for each of the stocks, then save as a separate CSV file first, and save a combined CSV file at the end\n",
    "for i, csvfile in enumerate(csvs):\n",
    "    stock_df = format_stockcsv(csvfile)\n",
    "    stock_df['ticker'] = stocknames[i]\n",
    "    if i == 0:\n",
    "        all_stocks = stock_df.copy()\n",
    "    else:\n",
    "        all_stocks = pd.concat([all_stocks, stock_df], axis=0)\n",
    "    stock_df.to_csv('../data/formatted/' + csvfile.rstrip('.csv') + '_formatted.csv', index=False)"
   ]
  },
  {
   "cell_type": "code",
   "execution_count": 6,
   "id": "e2a3bc6d-6a81-4f66-a909-67880961505f",
   "metadata": {
    "tags": []
   },
   "outputs": [],
   "source": [
    "# save the combined stock dataframe into a file\n",
    "all_stocks.to_csv('../data/formatted/combined.csv', index=False)"
   ]
  },
  {
   "cell_type": "code",
   "execution_count": null,
   "id": "2be6aecd-58c9-4b75-9308-257f127d7843",
   "metadata": {},
   "outputs": [],
   "source": []
  }
 ],
 "metadata": {
  "kernelspec": {
   "display_name": "lhl_env",
   "language": "python",
   "name": "lhl_env"
  },
  "language_info": {
   "codemirror_mode": {
    "name": "ipython",
    "version": 3
   },
   "file_extension": ".py",
   "mimetype": "text/x-python",
   "name": "python",
   "nbconvert_exporter": "python",
   "pygments_lexer": "ipython3",
   "version": "3.9.18"
  }
 },
 "nbformat": 4,
 "nbformat_minor": 5
}
